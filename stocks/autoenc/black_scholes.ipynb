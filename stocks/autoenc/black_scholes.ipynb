{
 "cells": [
  {
   "cell_type": "markdown",
   "metadata": {},
   "source": [
    "Some fun (is it fun?) looks at Black Scholes. Referencing this link [here](https://www.codearmo.com/python-tutorial/options-trading-black-scholes-model)."
   ]
  },
  {
   "cell_type": "code",
   "execution_count": 1,
   "metadata": {},
   "outputs": [],
   "source": [
    "from scipy.stats import norm\n",
    "import numpy as np\n",
    "import matplotlib.pyplot as plt\n",
    "import itertools\n",
    "import pandas as pd"
   ]
  },
  {
   "cell_type": "code",
   "execution_count": 2,
   "metadata": {},
   "outputs": [],
   "source": [
    "class BsOption:\n",
    "    def __init__(self, S, K, T, r, sigma, q=0):\n",
    "        self.S = S\n",
    "        self.K = K\n",
    "        self.T = T\n",
    "        self.r = r \n",
    "        self.sigma = sigma\n",
    "        self.q = q\n",
    "        \n",
    "    \n",
    "    @staticmethod\n",
    "    def N(x):\n",
    "        return norm.cdf(x)\n",
    "    \n",
    "    @property\n",
    "    def params(self):\n",
    "        return {'S': self.S, \n",
    "                'K': self.K, \n",
    "                'T': self.T, \n",
    "                'r':self.r,\n",
    "                'q':self.q,\n",
    "                'sigma':self.sigma}\n",
    "    \n",
    "    def d1(self):\n",
    "        return (np.log(self.S/self.K) + (self.r -self.q + self.sigma**2/2)*self.T) \\\n",
    "                                / (self.sigma*np.sqrt(self.T))\n",
    "    \n",
    "    def d2(self):\n",
    "        return self.d1() - self.sigma*np.sqrt(self.T)\n",
    "    \n",
    "    def _call_value(self):\n",
    "        return self.S*np.exp(-self.q*self.T)*self.N(self.d1()) - \\\n",
    "                    self.K*np.exp(-self.r*self.T) * self.N(self.d2())\n",
    "                    \n",
    "    def _put_value(self):\n",
    "        return self.K*np.exp(-self.r*self.T) * self.N(-self.d2()) -\\\n",
    "                self.S*np.exp(-self.q*self.T)*self.N(-self.d1())\n",
    "    \n",
    "    def price(self, type_ = 'C'):\n",
    "        if type_ == 'C':\n",
    "            return self._call_value()\n",
    "        if type_ == 'P':\n",
    "            return self._put_value() \n",
    "        if type_ == 'B':\n",
    "            return  {'call': self._call_value(), 'put': self._put_value()}\n",
    "        else:\n",
    "            raise ValueError('Unrecognized type')\n",
    "    \n",
    "def N(x):\n",
    "    return norm.cdf(x)\n",
    "\n",
    "def BS_CALL(S, K, T, r, sigma):\n",
    "    d1 = (np.log(S/K) + (r + sigma**2/2)*T) / (sigma*np.sqrt(T))\n",
    "    d2 = d1 - sigma * np.sqrt(T)\n",
    "    return S * N(d1) - K * np.exp(-r*T)* N(d2)\n",
    "\n",
    "def BS_PUT(S, K, T, r, sigma):\n",
    "    d1 = (np.log(S/K) + (r + sigma**2/2)*T) / (sigma*np.sqrt(T))\n",
    "    d2 = d1 - sigma* np.sqrt(T)\n",
    "    return K*np.exp(-r*T)*N(-d2) - S*N(-d1)"
   ]
  },
  {
   "cell_type": "code",
   "execution_count": 3,
   "metadata": {},
   "outputs": [
    {
     "name": "stdout",
     "output_type": "stream",
     "text": [
      "{'call': np.float64(16.73413358238666), 'put': np.float64(7.217875385982609)}\n"
     ]
    }
   ],
   "source": [
    "K = 100\n",
    "r = 0.1\n",
    "T = 1\n",
    "sigma = 0.3\n",
    "S = 100\n",
    "print(BsOption(S, K, T, r, sigma).price('B'))"
   ]
  },
  {
   "cell_type": "markdown",
   "metadata": {},
   "source": [
    "| Var | Definition|\n",
    "|---|---|\n",
    "| S | Current Price |\n",
    "| K | Strike Price |\n",
    "| r | Risk-Free Rate |\n",
    "| T | Time to expiry, years |\n",
    "| sigma | annualized volatility |"
   ]
  },
  {
   "cell_type": "code",
   "execution_count": 4,
   "metadata": {},
   "outputs": [
    {
     "data": {
      "text/plain": [
       "<matplotlib.legend.Legend at 0x7f0df414dd20>"
      ]
     },
     "execution_count": 4,
     "metadata": {},
     "output_type": "execute_result"
    },
    {
     "data": {
      "image/png": "[encoded data removed]",
      "text/plain": [
       "<Figure size 640x480 with 1 Axes>"
      ]
     },
     "metadata": {},
     "output_type": "display_data"
    }
   ],
   "source": [
    "K = 100\n",
    "r = 0.1\n",
    "T = 1\n",
    "sigma = 0.3\n",
    "\n",
    "S = np.arange(60,140,0.1)\n",
    "\n",
    "calls = [BsOption(s, K, T, r, sigma).price('C') for s in S]\n",
    "puts = [BsOption(s, K, T, r, sigma).price('P') for s in S]\n",
    "plt.plot(S, calls, label='Call Value')\n",
    "plt.plot(S, puts, label='Put Value')\n",
    "plt.xlabel('$S_0$')\n",
    "plt.ylabel(' Value')\n",
    "plt.legend()"
   ]
  },
  {
   "cell_type": "markdown",
   "metadata": {},
   "source": [
    "Time to generate some training data to throw a variational-autoencoder at."
   ]
  },
  {
   "cell_type": "code",
   "execution_count": 5,
   "metadata": {},
   "outputs": [
    {
     "data": {
      "text/plain": [
       "288000"
      ]
     },
     "execution_count": 5,
     "metadata": {},
     "output_type": "execute_result"
    }
   ],
   "source": [
    "# make parameter space\n",
    "S = np.arange(50, 150, 5).tolist()\n",
    "K = np.arange(50, 150, 5).tolist()\n",
    "r = np.arange(0.01, 0.1, 0.01).tolist()\n",
    "T = np.arange(0.0, 2, 0.1).tolist()\n",
    "sigma = np.arange(0.05, 0.2, 0.05).tolist()\n",
    "len(S) * len(K) * len(r) * len(T) * len(sigma)"
   ]
  },
  {
   "cell_type": "code",
   "execution_count": 6,
   "metadata": {},
   "outputs": [],
   "source": [
    "params = [S, K, r, T, sigma]\n",
    "space = np.array(list(itertools.product(*params)))"
   ]
  },
  {
   "cell_type": "code",
   "execution_count": 7,
   "metadata": {},
   "outputs": [],
   "source": [
    "call_prices = np.array([BS_CALL(*param) for param in space])"
   ]
  },
  {
   "cell_type": "code",
   "execution_count": 8,
   "metadata": {},
   "outputs": [],
   "source": [
    "call_df = pd.DataFrame(np.hstack((space, call_prices.reshape(-1,1))), columns=[\"S\", \"K\", \"r\", \"T\", \"sigma\", \"CallPrice\"])"
   ]
  },
  {
   "cell_type": "code",
   "execution_count": 9,
   "metadata": {},
   "outputs": [],
   "source": [
    "call_df.to_csv(\"calldf.csv\", index=False)"
   ]
  }
 ],
 "metadata": {
  "kernelspec": {
   "display_name": "venv",
   "language": "python",
   "name": "python3"
  },
  "language_info": {
   "codemirror_mode": {
    "name": "ipython",
    "version": 3
   },
   "file_extension": ".py",
   "mimetype": "text/x-python",
   "name": "python",
   "nbconvert_exporter": "python",
   "pygments_lexer": "ipython3",
   "version": "3.10.12"
  }
 },
 "nbformat": 4,
 "nbformat_minor": 2
}
