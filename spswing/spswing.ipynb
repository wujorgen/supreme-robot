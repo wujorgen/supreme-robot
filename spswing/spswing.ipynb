{
 "cells": [
  {
   "cell_type": "code",
   "execution_count": 1,
   "metadata": {},
   "outputs": [],
   "source": [
    "# import statements\n",
    "import yfinance as yf\n",
    "import pandas as pd\n",
    "import numpy as np\n",
    "import matplotlib.pyplot as plt\n",
    "from catboost import CatBoostClassifier, cv, Pool\n",
    "from sklearn.model_selection import train_test_split"
   ]
  },
  {
   "cell_type": "code",
   "execution_count": 2,
   "metadata": {},
   "outputs": [
    {
     "name": "stdout",
     "output_type": "stream",
     "text": [
      "[*********************100%%**********************]  1 of 1 completed\n",
      "[*********************100%%**********************]  1 of 1 completed\n",
      "[*********************100%%**********************]  1 of 1 completed\n",
      "[*********************100%%**********************]  1 of 1 completed\n",
      "[*********************100%%**********************]  1 of 1 completed\n",
      "[*********************100%%**********************]  1 of 1 completed\n",
      "[*********************100%%**********************]  1 of 1 completed\n",
      "[*********************100%%**********************]  1 of 1 completed\n",
      "[*********************100%%**********************]  1 of 1 completed\n",
      "[*********************100%%**********************]  1 of 1 completed\n",
      "[*********************100%%**********************]  1 of 1 completed\n",
      "[*********************100%%**********************]  1 of 1 completed\n",
      "[*********************100%%**********************]  1 of 1 completed\n"
     ]
    }
   ],
   "source": [
    "SPY_daily = yf.download('SPY')\n",
    "energy_daily = yf.download('XLE')\n",
    "materials_daily = yf.download('XLB')\n",
    "industrial_daily = yf.download('XLI')\n",
    "utilities_daily = yf.download('XLU')\n",
    "health_daily = yf.download('XLV')\n",
    "financial_daily = yf.download('XLF')\n",
    "consumer_discretionary_daily = yf.download('XLY')\n",
    "consumer_staples_daily = yf.download('XLP')\n",
    "technology_daily = yf.download('XLK')\n",
    "real_estate_daily = yf.download('VGSIX')\n",
    "TYBonds_daily = yf.download('^TNX')\n",
    "VIX_daily = yf.download('^VIX')"
   ]
  },
  {
   "cell_type": "code",
   "execution_count": 12,
   "metadata": {},
   "outputs": [],
   "source": [
    "def SMA(df, feature, window_size):\n",
    "    new_col = 'MA' + feature + str(window_size)\n",
    "    df[new_col] = df[feature].rolling(window=window_size).mean()\n",
    "    return df\n",
    "\n",
    "def Volitility(df, feature, window_size):\n",
    "    new_col = 'VOLITILITY' + feature + str(window_size)\n",
    "    returns = np.log(df[feature]/df[feature].shift())\n",
    "    returns.fillna(0, inplace=True)\n",
    "    df[new_col] = returns.rolling(window=window_size).std()*np.sqrt(window_size)\n",
    "    return df\n",
    "\n",
    "def RSI(df, feature, window_size):\n",
    "    new_col = 'RSI' + feature + str(window_size)\n",
    "    delta = df[feature].diff()\n",
    "    delta = delta[1:]\n",
    "    up, down = delta.clip(lower=0), delta.clip(upper=0)\n",
    "    roll_up = up.rolling(window_size).mean()\n",
    "    roll_down = down.abs().rolling(window_size).mean()\n",
    "    RS = roll_up / roll_down\n",
    "    RSI = 100.0 - (100.0 / (1.0 + RS))\n",
    "    df[new_col] = RSI\n",
    "    return df"
   ]
  },
  {
   "cell_type": "code",
   "execution_count": 13,
   "metadata": {},
   "outputs": [],
   "source": [
    "# get only close and volume from each DF\n",
    "\n",
    "\n",
    "input_params = pd.DataFrame()\n",
    "\n",
    "ticker_columns = [\n",
    "    SPY_daily.Close, SPY_daily.Volume, \n",
    "    energy_daily.Close, energy_daily.Volume,\n",
    "    materials_daily.Close, materials_daily.Volume,\n",
    "    industrial_daily.Close, industrial_daily.Volume,\n",
    "    utilities_daily.Close, utilities_daily.Volume, \n",
    "    health_daily.Close, health_daily.Volume,\n",
    "    financial_daily.Close, financial_daily.Volume,\n",
    "    consumer_discretionary_daily.Close, consumer_discretionary_daily.Volume,\n",
    "    consumer_staples_daily.Close, consumer_staples_daily.Volume,\n",
    "    technology_daily.Close, technology_daily.Volume,\n",
    "    real_estate_daily.Close, real_estate_daily.Volume,\n",
    "    TYBonds_daily.Close, TYBonds_daily.Volume,\n",
    "    VIX_daily.Close, VIX_daily.Volume,\n",
    "    ]\n",
    "\n",
    "ticker_column_names = [\n",
    "    \"close_SPY\"                        , \"volume_SPY\"                    ,\n",
    "    \"close_energy\"                     , \"volume_energy\"                 ,\n",
    "    \"close_materials\"                  , \"volume_materials\"              ,\n",
    "    \"close_industrial\"                 , \"volume_industrial\"             ,\n",
    "    \"close_utilities\"                  , \"volume_utilities\"              ,\n",
    "    \"close_health\"                     , \"volume_health\"                 ,\n",
    "    \"close_financial\"                  , \"volume_financial\"              ,\n",
    "    \"close_consumer_discretionary\"     , \"volume_consumer_discretionary\" ,\n",
    "    \"close_consumer_staples\"           , \"volume_consumer_staples\"       ,\n",
    "    \"close_technology\"                 , \"volume_technology\"             ,\n",
    "    \"close_real_estate\"                , \"volume_real_estate\"            ,\n",
    "    \"close_TYBonds\"                    , \"volume_TYBonds\"                ,\n",
    "    \"close_VIX\"                        , \"volume_VIX\"                    ,\n",
    "]\n",
    "\n",
    "# combine into one mega frame\n",
    "\n",
    "input_params = pd.concat(ticker_columns, axis='columns')\n",
    "\n",
    "input_params.columns = ticker_column_names\n",
    "\n",
    "input_params = input_params.dropna()\n"
   ]
  },
  {
   "cell_type": "code",
   "execution_count": 8,
   "metadata": {},
   "outputs": [
    {
     "name": "stderr",
     "output_type": "stream",
     "text": [
      "C:\\Users\\wujor\\AppData\\Local\\Temp\\ipykernel_38404\\90966104.py:3: PerformanceWarning: DataFrame is highly fragmented.  This is usually the result of calling `frame.insert` many times, which has poor performance.  Consider joining all columns at once using pd.concat(axis=1) instead. To get a de-fragmented frame, use `newframe = frame.copy()`\n",
      "  df[new_col] = df[feature].rolling(window=window_size).mean()\n",
      "C:\\Users\\wujor\\AppData\\Local\\Temp\\ipykernel_38404\\90966104.py:3: PerformanceWarning: DataFrame is highly fragmented.  This is usually the result of calling `frame.insert` many times, which has poor performance.  Consider joining all columns at once using pd.concat(axis=1) instead. To get a de-fragmented frame, use `newframe = frame.copy()`\n",
      "  df[new_col] = df[feature].rolling(window=window_size).mean()\n",
      "C:\\Users\\wujor\\AppData\\Local\\Temp\\ipykernel_38404\\90966104.py:3: PerformanceWarning: DataFrame is highly fragmented.  This is usually the result of calling `frame.insert` many times, which has poor performance.  Consider joining all columns at once using pd.concat(axis=1) instead. To get a de-fragmented frame, use `newframe = frame.copy()`\n",
      "  df[new_col] = df[feature].rolling(window=window_size).mean()\n",
      "C:\\Users\\wujor\\AppData\\Local\\Temp\\ipykernel_38404\\90966104.py:3: PerformanceWarning: DataFrame is highly fragmented.  This is usually the result of calling `frame.insert` many times, which has poor performance.  Consider joining all columns at once using pd.concat(axis=1) instead. To get a de-fragmented frame, use `newframe = frame.copy()`\n",
      "  df[new_col] = df[feature].rolling(window=window_size).mean()\n",
      "C:\\Users\\wujor\\AppData\\Local\\Temp\\ipykernel_38404\\90966104.py:3: PerformanceWarning: DataFrame is highly fragmented.  This is usually the result of calling `frame.insert` many times, which has poor performance.  Consider joining all columns at once using pd.concat(axis=1) instead. To get a de-fragmented frame, use `newframe = frame.copy()`\n",
      "  df[new_col] = df[feature].rolling(window=window_size).mean()\n"
     ]
    }
   ],
   "source": [
    "# calculate technical indicators for 7, 20,50, and 200 day windows\n",
    "for window_size in [7, 20, 50, 200]:\n",
    "    for feature in ticker_column_names:\n",
    "        input_params = SMA(input_params, feature, window_size)\n",
    "\n",
    "input_params = input_params.dropna()"
   ]
  },
  {
   "cell_type": "code",
   "execution_count": 14,
   "metadata": {},
   "outputs": [],
   "source": [
    "def get_Daily_Volatility(close,span0=20):\n",
    "    # simple percentage returns\n",
    "    df0=close.pct_change()\n",
    "    # 20 days, a month EWM's std as boundary\n",
    "    df0=df0.ewm(span=span0).std()\n",
    "    df0.dropna(inplace=True)\n",
    "    return df0\n",
    "\n",
    "def get_3_barriers(daily_volatility, prices):\n",
    "    #create a container\n",
    "    barriers = pd.DataFrame(columns=['days_passed', \n",
    "              'price', 'vert_barrier', \\\n",
    "              'top_barrier', 'bottom_barrier'], \\\n",
    "               index = daily_volatility.index)\n",
    "\n",
    "    for day, vol in daily_volatility.items():\n",
    "        days_passed = len(daily_volatility.loc[daily_volatility.index[0] : day])\n",
    "        #set the vertical barrier \n",
    "        if (days_passed + t_final < len(daily_volatility.index) and t_final != 0):\n",
    "            vert_barrier = daily_volatility.index[days_passed + t_final]\n",
    "        else:\n",
    "            vert_barrier = np.nan\n",
    "        #set the top barrier\n",
    "        if upper_lower_multipliers[0] > 0:\n",
    "            top_barrier = prices.loc[day] + prices.loc[day] * upper_lower_multipliers[0] * vol\n",
    "        else:\n",
    "            #set it to NaNs\n",
    "            top_barrier = pd.Series(index=prices.index)\n",
    "        #set the bottom barrier\n",
    "        if upper_lower_multipliers[1] > 0:\n",
    "            bottom_barrier = prices.loc[day] - prices.loc[day] * upper_lower_multipliers[1] * vol\n",
    "        else: \n",
    "            #set it to NaNs\n",
    "            bottom_barrier = pd.Series(index=prices.index)\n",
    "        barriers.loc[day, ['days_passed', 'price', 'vert_barrier','top_barrier', 'bottom_barrier']] = \\\n",
    "            days_passed, prices.loc[day], vert_barrier, \\\n",
    "            top_barrier, bottom_barrier\n",
    "\n",
    "    return barriers\n",
    "\n",
    "def get_labels(barriers):\n",
    "\n",
    "    labels = []\n",
    "    size = [] # percent gained or lossed \n",
    "\n",
    "    for i in range(len(barriers.index)):\n",
    "        start = barriers.index[i]\n",
    "        end = barriers.vert_barrier[i]\n",
    "        if pd.notna(end):\n",
    "            # assign the initial and final price\n",
    "            price_initial = barriers.price[start]\n",
    "            price_final = barriers.price[end]\n",
    "            # assign the top and bottom barriers\n",
    "            top_barrier = barriers.top_barrier[i]\n",
    "            bottom_barrier = barriers.bottom_barrier[i]\n",
    "            #set the profit taking and stop loss conditons\n",
    "            condition_pt = (barriers.price[start: end] >= top_barrier).any()\n",
    "            condition_sl = (barriers.price[start: end] <= bottom_barrier).any()\n",
    "            #assign the labels\n",
    "            if condition_pt: \n",
    "                labels.append(1)\n",
    "            else: \n",
    "                labels.append(0)\n",
    "            size.append((price_final - price_initial) / price_initial)\n",
    "        else:\n",
    "            labels.append(np.nan)\n",
    "            size.append(np.nan)\n",
    "\n",
    "    return labels, size\n",
    "\n",
    "# how many days we hold the stock which set the vertical barrier\n",
    "t_final = 10\n",
    "#the up and low boundary multipliers\n",
    "upper_lower_multipliers = [2, 2]\n",
    "#align the index\n",
    "\n",
    "vol_df = get_Daily_Volatility(input_params[\"close_SPY\"])\n",
    "prices = input_params[\"close_SPY\"][vol_df.index]\n",
    "barriers = get_3_barriers(vol_df, prices)\n",
    "barriers.index = pd.to_datetime(barriers.index)\n",
    "labs, size = get_labels(barriers) # training targets (???)\n",
    "input_params = input_params[input_params.index.isin(barriers.index)]"
   ]
  },
  {
   "cell_type": "code",
   "execution_count": 15,
   "metadata": {},
   "outputs": [
    {
     "name": "stdout",
     "output_type": "stream",
     "text": [
      "2023-08-03 00:00:00\n",
      "2023-08-18 00:00:00\n"
     ]
    },
    {
     "data": {
      "image/png": "[encoded data removed]",
      "text/plain": [
       "<Figure size 640x480 with 1 Axes>"
      ]
     },
     "metadata": {},
     "output_type": "display_data"
    }
   ],
   "source": [
    "# test the box plotting thingy\n",
    "plt.figure(999)\n",
    "plt.plot(input_params[\"close_SPY\"][-69:])\n",
    "box = barriers.iloc[-22,:]\n",
    "plt.vlines(box.name, ymin=box[\"bottom_barrier\"], ymax=box[\"top_barrier\"], colors=\"r\")\n",
    "plt.vlines(box[\"vert_barrier\"], ymin=box[\"bottom_barrier\"], ymax=box[\"top_barrier\"], colors=\"r\")\n",
    "plt.hlines(box[\"top_barrier\"], xmin=box.name, xmax=box[\"vert_barrier\"], colors=\"r\")\n",
    "plt.hlines(box[\"price\"], xmin=box.name, xmax=box[\"vert_barrier\"], colors=\"r\")\n",
    "plt.hlines(box[\"bottom_barrier\"], xmin=box.name, xmax=box[\"vert_barrier\"], colors=\"r\")\n",
    "print(box.name)\n",
    "print(box[\"vert_barrier\"])"
   ]
  },
  {
   "cell_type": "code",
   "execution_count": 16,
   "metadata": {},
   "outputs": [
    {
     "name": "stdout",
     "output_type": "stream",
     "text": [
      "close_SPY\n",
      "volume_SPY\n",
      "close_energy\n",
      "volume_energy\n",
      "close_materials\n",
      "volume_materials\n",
      "close_industrial\n",
      "volume_industrial\n",
      "close_utilities\n",
      "volume_utilities\n",
      "close_health\n",
      "volume_health\n",
      "close_financial\n",
      "volume_financial\n",
      "close_consumer_discretionary\n",
      "volume_consumer_discretionary\n",
      "close_consumer_staples\n",
      "volume_consumer_staples\n",
      "close_technology\n",
      "volume_technology\n",
      "close_real_estate\n",
      "volume_real_estate\n",
      "close_TYBonds\n",
      "volume_TYBonds\n",
      "close_VIX\n",
      "volume_VIX\n"
     ]
    }
   ],
   "source": [
    "%%capture --no-stdout --no-display\n",
    "\n",
    "def percentage_change(initial,final):\n",
    "    return ((final - initial) / initial)\n",
    "\n",
    "def expand_features(full_df):\n",
    "\n",
    "    window = 5\n",
    "\n",
    "    new_df = pd.DataFrame()\n",
    "    for col in full_df.columns:\n",
    "        print(col)\n",
    "        if not col.startswith('label'):\n",
    "            column = full_df[col]\n",
    "            for i in range(1, window):\n",
    "                shifted = column.shift(i)\n",
    "                new_df['Shifted' + str(i) + col] = percentage_change(shifted, column)\n",
    "        else:\n",
    "            new_df[col] = full_df[col]\n",
    "\n",
    "    return new_df\n",
    "\n",
    "input_params = expand_features(input_params)"
   ]
  },
  {
   "cell_type": "code",
   "execution_count": 19,
   "metadata": {},
   "outputs": [],
   "source": [
    "# clean this shitshow of a dataframe\n",
    "input_params = input_params.fillna(0).replace(np.inf,0)"
   ]
  },
  {
   "cell_type": "code",
   "execution_count": 29,
   "metadata": {},
   "outputs": [],
   "source": [
    "#X_train, X_test, y_train, y_test = train_test_split(input_params, labs, test_size=0.33, random_state=42)\n",
    "split_location = int(len(labs) * 0.88)\n",
    "X_train = input_params.iloc[:split_location,:]\n",
    "X_test = input_params.iloc[split_location:-t_final-1,:]\n",
    "y_train = labs[:split_location]\n",
    "y_test = labs[split_location:-t_final-1]\n",
    "SEED = 42\n"
   ]
  },
  {
   "cell_type": "code",
   "execution_count": 33,
   "metadata": {},
   "outputs": [
    {
     "data": {
      "application/vnd.jupyter.widget-view+json": {
       "model_id": "75b52d9824974688b2df67e94de654f0",
       "version_major": 2,
       "version_minor": 0
      },
      "text/plain": [
       "MetricVisualizer(layout=Layout(align_self='stretch', height='500px'))"
      ]
     },
     "metadata": {},
     "output_type": "display_data"
    },
    {
     "name": "stdout",
     "output_type": "stream",
     "text": [
      "Training on fold [0/5]\n",
      "0:\ttest: 0.5720396\tbest: 0.5720396 (0)\ttotal: 53.1ms\tremaining: 53s\n",
      "\n",
      "bestTest = 0.6041759032\n",
      "bestIteration = 7\n",
      "\n",
      "Training on fold [1/5]\n",
      "0:\ttest: 0.5525517\tbest: 0.5525517 (0)\ttotal: 46.8ms\tremaining: 46.7s\n",
      "\n",
      "bestTest = 0.5990005216\n",
      "bestIteration = 14\n",
      "\n",
      "Training on fold [2/5]\n",
      "0:\ttest: 0.5476284\tbest: 0.5476284 (0)\ttotal: 44ms\tremaining: 44s\n",
      "\n",
      "bestTest = 0.5783407497\n",
      "bestIteration = 11\n",
      "\n",
      "Training on fold [3/5]\n",
      "0:\ttest: 0.6028401\tbest: 0.6028401 (0)\ttotal: 43ms\tremaining: 43s\n",
      "\n",
      "bestTest = 0.6132230987\n",
      "bestIteration = 1\n",
      "\n",
      "Training on fold [4/5]\n",
      "0:\ttest: 0.5692557\tbest: 0.5692557 (0)\ttotal: 43.2ms\tremaining: 43.1s\n",
      "\n",
      "bestTest = 0.6236734763\n",
      "bestIteration = 13\n",
      "\n",
      "Best validation Logloss score : 0.6852±0.0029 on step 16\n"
     ]
    }
   ],
   "source": [
    "def print_cv_summary(cv_data):\n",
    "    cv_data.head(10)\n",
    "\n",
    "    best_value = cv_data['test-Logloss-mean'].min()\n",
    "    best_iter  = cv_data['test-Logloss-mean'].values.argmin()\n",
    "\n",
    "    print('Best validation Logloss score : {:.4f}±{:.4f} on step {}'.format(\n",
    "        best_value,\n",
    "        cv_data['test-Logloss-std'][best_iter],\n",
    "        best_iter)\n",
    "    )\n",
    "\n",
    "classification_params = {'loss_function': 'Logloss',\n",
    "          'eval_metric':'AUC',\n",
    "          'early_stopping_rounds': 2,\n",
    "          'verbose': 200,\n",
    "          'random_seed': SEED\n",
    "         }\n",
    "\n",
    "\n",
    "model = CatBoostClassifier(**classification_params)\n",
    "#model.fit(X_train, y_train,\n",
    "#        eval_set=(X_test, y_test), \n",
    "#        use_best_model=True, )\n",
    "\n",
    "cat_features = [0]\n",
    "\n",
    "cv_dataset = Pool(data=X_train.astype(str),\n",
    "                  label=y_train,\n",
    "                  cat_features=cat_features)\n",
    "\n",
    "cv_results = cv(cv_dataset,\n",
    "            classification_params,\n",
    "            fold_count=5, \n",
    "            plot=\"True\")\n",
    "\n",
    "print_cv_summary(cv_results)"
   ]
  },
  {
   "cell_type": "code",
   "execution_count": null,
   "metadata": {},
   "outputs": [],
   "source": [
    "# train model\n",
    "\n",
    "# display metrics"
   ]
  }
 ],
 "metadata": {
  "kernelspec": {
   "display_name": "supreme-robot",
   "language": "python",
   "name": "python3"
  },
  "language_info": {
   "codemirror_mode": {
    "name": "ipython",
    "version": 3
   },
   "file_extension": ".py",
   "mimetype": "text/x-python",
   "name": "python",
   "nbconvert_exporter": "python",
   "pygments_lexer": "ipython3",
   "version": "3.11.4"
  },
  "orig_nbformat": 4
 },
 "nbformat": 4,
 "nbformat_minor": 2
}
